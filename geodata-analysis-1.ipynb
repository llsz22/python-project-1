{
 "cells": [
  {
   "cell_type": "markdown",
   "id": "cbdcbd8c-aed3-446d-9fa7-f11c6df778cd",
   "metadata": {},
   "source": [
    "### CHALLENGE\n",
    "#### Answer the questions:\n",
    "#### 1. Obtain the minimum number of civilian casualties(in what month was that?)\n",
    "#### 2. How many NATO casualties were registered in August 2008?\n",
    "#### 3. What is the month with the most total number of casualties?\n",
    "#### 4. Can you make a plot of the distribution of casualties over time?e?"
   ]
  },
  {
   "cell_type": "markdown",
   "id": "1c50bf36-69cc-4dc7-a4af-3410108ae527",
   "metadata": {},
   "source": [
    "##### Import python liberaries, read data into dataframe, and prepare dataset to analize."
   ]
  },
  {
   "cell_type": "code",
   "execution_count": 562,
   "id": "4f66e7b3-e309-450c-94b8-6706e1095e0a",
   "metadata": {},
   "outputs": [
    {
     "data": {
      "text/plain": [
       "'https://docs.google.com/spreadsheets/d/1EAx8_ksSCmoWW_SlhFyq2QrRn0FNNhcg1TtDFJzZRgc/export?format=csv&gid=1'"
      ]
     },
     "execution_count": 562,
     "metadata": {},
     "output_type": "execute_result"
    }
   ],
   "source": [
    "import pandas as pd\n",
    "import seaborn as sns\n",
    "import matplotlib.pyplot as plt\n",
    "import datetime as dt\n",
    "url = (\"https://docs.google.com/spreadsheets/d/\"\\\n",
    "       \"1EAx8_ksSCmoWW_SlhFyq2QrRn0FNNhcg1TtDFJzZRgc/\"\\\n",
    "       \"export?format=csv&gid=1\")\n",
    "url"
   ]
  },
  {
   "cell_type": "markdown",
   "id": "03be06c8-af7e-42fc-b815-c42c4b1f0727",
   "metadata": {},
   "source": [
    "### Data cleaning and transformation"
   ]
  },
  {
   "cell_type": "code",
   "execution_count": 564,
   "id": "d6ad02ea-3506-41ed-9820-d1a49a88cac4",
   "metadata": {},
   "outputs": [
    {
     "data": {
      "text/html": [
       "<div>\n",
       "<style scoped>\n",
       "    .dataframe tbody tr th:only-of-type {\n",
       "        vertical-align: middle;\n",
       "    }\n",
       "\n",
       "    .dataframe tbody tr th {\n",
       "        vertical-align: top;\n",
       "    }\n",
       "\n",
       "    .dataframe thead th {\n",
       "        text-align: right;\n",
       "    }\n",
       "</style>\n",
       "<table border=\"1\" class=\"dataframe\">\n",
       "  <thead>\n",
       "    <tr style=\"text-align: right;\">\n",
       "      <th></th>\n",
       "      <th>Year</th>\n",
       "      <th>Month</th>\n",
       "      <th>Taliban</th>\n",
       "      <th>Civilians</th>\n",
       "      <th>Afghan forces</th>\n",
       "      <th>Nato (detailed in spreadsheet)</th>\n",
       "      <th>Nato - official figures</th>\n",
       "    </tr>\n",
       "  </thead>\n",
       "  <tbody>\n",
       "    <tr>\n",
       "      <th>71</th>\n",
       "      <td>2009.0</td>\n",
       "      <td>December</td>\n",
       "      <td>287.0</td>\n",
       "      <td>87</td>\n",
       "      <td>65.0</td>\n",
       "      <td>33.0</td>\n",
       "      <td>35.0</td>\n",
       "    </tr>\n",
       "    <tr>\n",
       "      <th>72</th>\n",
       "      <td>NaN</td>\n",
       "      <td>24498</td>\n",
       "      <td>15507.0</td>\n",
       "      <td>4024</td>\n",
       "      <td>3820.0</td>\n",
       "      <td>1147.0</td>\n",
       "      <td>NaN</td>\n",
       "    </tr>\n",
       "  </tbody>\n",
       "</table>\n",
       "</div>"
      ],
      "text/plain": [
       "      Year     Month  Taliban  Civilians  Afghan forces  \\\n",
       "71  2009.0  December    287.0         87           65.0   \n",
       "72     NaN     24498  15507.0       4024         3820.0   \n",
       "\n",
       "    Nato (detailed in spreadsheet)  Nato - official figures  \n",
       "71                            33.0                     35.0  \n",
       "72                          1147.0                      NaN  "
      ]
     },
     "execution_count": 564,
     "metadata": {},
     "output_type": "execute_result"
    }
   ],
   "source": [
    "df = pd.read_csv(url, skiprows=[0, -1], thousands=\",\")\n",
    "df.tail(2)"
   ]
  },
  {
   "cell_type": "code",
   "execution_count": 565,
   "id": "8f4d1c2b-00bd-4991-877c-f55f32d267c1",
   "metadata": {},
   "outputs": [],
   "source": [
    "# delete the last row since it is not a valid row.\n",
    "df=df.drop(72)"
   ]
  },
  {
   "cell_type": "code",
   "execution_count": 568,
   "id": "8357c399-46e4-4af8-a326-1b72bfacff91",
   "metadata": {},
   "outputs": [
    {
     "data": {
      "text/html": [
       "<div>\n",
       "<style scoped>\n",
       "    .dataframe tbody tr th:only-of-type {\n",
       "        vertical-align: middle;\n",
       "    }\n",
       "\n",
       "    .dataframe tbody tr th {\n",
       "        vertical-align: top;\n",
       "    }\n",
       "\n",
       "    .dataframe thead th {\n",
       "        text-align: right;\n",
       "    }\n",
       "</style>\n",
       "<table border=\"1\" class=\"dataframe\">\n",
       "  <thead>\n",
       "    <tr style=\"text-align: right;\">\n",
       "      <th></th>\n",
       "      <th>Year</th>\n",
       "      <th>Month</th>\n",
       "      <th>Taliban</th>\n",
       "      <th>Civilians</th>\n",
       "      <th>Afghan forces</th>\n",
       "      <th>Nato (detailed in spreadsheet)</th>\n",
       "      <th>Nato - official figures</th>\n",
       "    </tr>\n",
       "  </thead>\n",
       "  <tbody>\n",
       "    <tr>\n",
       "      <th>70</th>\n",
       "      <td>2009.0</td>\n",
       "      <td>November</td>\n",
       "      <td>410.0</td>\n",
       "      <td>120</td>\n",
       "      <td>69.0</td>\n",
       "      <td>30.0</td>\n",
       "      <td>32.0</td>\n",
       "    </tr>\n",
       "    <tr>\n",
       "      <th>71</th>\n",
       "      <td>2009.0</td>\n",
       "      <td>December</td>\n",
       "      <td>287.0</td>\n",
       "      <td>87</td>\n",
       "      <td>65.0</td>\n",
       "      <td>33.0</td>\n",
       "      <td>35.0</td>\n",
       "    </tr>\n",
       "  </tbody>\n",
       "</table>\n",
       "</div>"
      ],
      "text/plain": [
       "      Year     Month  Taliban  Civilians  Afghan forces  \\\n",
       "70  2009.0  November    410.0        120           69.0   \n",
       "71  2009.0  December    287.0         87           65.0   \n",
       "\n",
       "    Nato (detailed in spreadsheet)  Nato - official figures  \n",
       "70                            30.0                     32.0  \n",
       "71                            33.0                     35.0  "
      ]
     },
     "execution_count": 568,
     "metadata": {},
     "output_type": "execute_result"
    }
   ],
   "source": [
    "df.tail(2)"
   ]
  },
  {
   "cell_type": "code",
   "execution_count": 570,
   "id": "9bc4ab2d-37c3-497f-bff7-c5038b465c7b",
   "metadata": {},
   "outputs": [
    {
     "data": {
      "text/plain": [
       "Year                              0\n",
       "Month                             0\n",
       "Taliban                           1\n",
       "Civilians                         0\n",
       "Afghan forces                     2\n",
       "Nato (detailed in spreadsheet)    6\n",
       "Nato - official figures           0\n",
       "dtype: int64"
      ]
     },
     "execution_count": 570,
     "metadata": {},
     "output_type": "execute_result"
    }
   ],
   "source": [
    "df.isna().sum()"
   ]
  },
  {
   "cell_type": "code",
   "execution_count": 572,
   "id": "bf82f427-071e-408e-9b9b-1efe08c62cb3",
   "metadata": {},
   "outputs": [
    {
     "data": {
      "text/plain": [
       "Year                              float64\n",
       "Month                              object\n",
       "Taliban                           float64\n",
       "Civilians                           int64\n",
       "Afghan forces                     float64\n",
       "Nato (detailed in spreadsheet)    float64\n",
       "Nato - official figures           float64\n",
       "dtype: object"
      ]
     },
     "execution_count": 572,
     "metadata": {},
     "output_type": "execute_result"
    }
   ],
   "source": [
    "# check data type for each column\n",
    "df.dtypes"
   ]
  },
  {
   "cell_type": "code",
   "execution_count": 574,
   "id": "98abb92f-f396-4308-9b8b-82287d91722d",
   "metadata": {},
   "outputs": [],
   "source": [
    "# fill nan value to 0 in order to do calculations\n",
    "df.fillna(0, inplace=True)"
   ]
  },
  {
   "cell_type": "code",
   "execution_count": 576,
   "id": "9da16ce2-c9e2-47fd-a53a-2a5e73b6e7ca",
   "metadata": {},
   "outputs": [
    {
     "data": {
      "text/plain": [
       "Year                               int32\n",
       "Month                             object\n",
       "Taliban                            int32\n",
       "Civilians                          int64\n",
       "Afghan forces                      int32\n",
       "Nato (detailed in spreadsheet)     int32\n",
       "Nato - official figures            int32\n",
       "dtype: object"
      ]
     },
     "execution_count": 576,
     "metadata": {},
     "output_type": "execute_result"
    }
   ],
   "source": [
    "# Change data type to right type\n",
    "df['Taliban']=df['Taliban'].astype(int)\n",
    "df['Afghan forces']=df['Afghan forces'].astype(int)\n",
    "\n",
    "df['Nato (detailed in spreadsheet)']=df['Nato (detailed in spreadsheet)'].astype(int)\n",
    "df['Nato - official figures']=df['Nato - official figures'].astype(int)\n",
    "df['Year']=df['Year'].astype(int)\n",
    "df.dtypes\n"
   ]
  },
  {
   "cell_type": "code",
   "execution_count": 579,
   "id": "cb7da2cf-b53d-418b-b5c4-07584062dbbd",
   "metadata": {},
   "outputs": [
    {
     "data": {
      "text/plain": [
       "Month\n",
       "April         3\n",
       "August        6\n",
       "December     13\n",
       "February      4\n",
       "January       4\n",
       "July          5\n",
       "June         31\n",
       "March         2\n",
       "May          29\n",
       "November     13\n",
       "October      14\n",
       "September     4\n",
       "Name: Civilians, dtype: int64"
      ]
     },
     "execution_count": 579,
     "metadata": {},
     "output_type": "execute_result"
    }
   ],
   "source": [
    "# Q1: Obtain the minimum number of civilian casualties(in what month was that?)\n",
    "# Answer: March has the minimum civilian casualities, 2 casualities.\n",
    "q1=df.groupby('Month')['Civilians'].min()\n",
    "q1"
   ]
  },
  {
   "cell_type": "code",
   "execution_count": 581,
   "id": "98ffe819-6f6a-418b-847a-1521fc5f1a26",
   "metadata": {},
   "outputs": [
    {
     "data": {
      "text/plain": [
       "Month\n",
       "April         75\n",
       "August       223\n",
       "December      81\n",
       "February      72\n",
       "January       55\n",
       "July         158\n",
       "June         164\n",
       "March         80\n",
       "May          105\n",
       "November      89\n",
       "October      143\n",
       "September    185\n",
       "Name: Nato - official figures, dtype: int32"
      ]
     },
     "execution_count": 581,
     "metadata": {},
     "output_type": "execute_result"
    }
   ],
   "source": [
    "# Q2: How many NATO casualties were registered in August 2008?\n",
    "# Answer: NATO Official figures of casualties were 223 in Aug 2008.\n",
    "q2= df.groupby('Month')['Nato - official figures'].sum()\n",
    "q2"
   ]
  },
  {
   "cell_type": "code",
   "execution_count": 583,
   "id": "883682fe-6c26-4d3a-9be1-fb5b0a0cdd31",
   "metadata": {},
   "outputs": [],
   "source": [
    "total = df['Civilians'] + df['Taliban']+df['Afghan forces'] + df['Nato (detailed in spreadsheet)']+ df['Nato - official figures']"
   ]
  },
  {
   "cell_type": "code",
   "execution_count": 585,
   "id": "d62536cf-e0e7-4390-a9be-95a4a34f75af",
   "metadata": {},
   "outputs": [
    {
     "data": {
      "text/html": [
       "<div>\n",
       "<style scoped>\n",
       "    .dataframe tbody tr th:only-of-type {\n",
       "        vertical-align: middle;\n",
       "    }\n",
       "\n",
       "    .dataframe tbody tr th {\n",
       "        vertical-align: top;\n",
       "    }\n",
       "\n",
       "    .dataframe thead th {\n",
       "        text-align: right;\n",
       "    }\n",
       "</style>\n",
       "<table border=\"1\" class=\"dataframe\">\n",
       "  <thead>\n",
       "    <tr style=\"text-align: right;\">\n",
       "      <th></th>\n",
       "      <th>Year</th>\n",
       "      <th>Month</th>\n",
       "      <th>Taliban</th>\n",
       "      <th>Civilians</th>\n",
       "      <th>Afghan forces</th>\n",
       "      <th>Nato (detailed in spreadsheet)</th>\n",
       "      <th>Nato - official figures</th>\n",
       "      <th>Total</th>\n",
       "    </tr>\n",
       "  </thead>\n",
       "  <tbody>\n",
       "    <tr>\n",
       "      <th>0</th>\n",
       "      <td>2004</td>\n",
       "      <td>January</td>\n",
       "      <td>15</td>\n",
       "      <td>51</td>\n",
       "      <td>23</td>\n",
       "      <td>0</td>\n",
       "      <td>11</td>\n",
       "      <td>100</td>\n",
       "    </tr>\n",
       "    <tr>\n",
       "      <th>1</th>\n",
       "      <td>2004</td>\n",
       "      <td>February</td>\n",
       "      <td>0</td>\n",
       "      <td>7</td>\n",
       "      <td>4</td>\n",
       "      <td>5</td>\n",
       "      <td>2</td>\n",
       "      <td>18</td>\n",
       "    </tr>\n",
       "    <tr>\n",
       "      <th>2</th>\n",
       "      <td>2004</td>\n",
       "      <td>March</td>\n",
       "      <td>19</td>\n",
       "      <td>2</td>\n",
       "      <td>0</td>\n",
       "      <td>2</td>\n",
       "      <td>3</td>\n",
       "      <td>26</td>\n",
       "    </tr>\n",
       "    <tr>\n",
       "      <th>3</th>\n",
       "      <td>2004</td>\n",
       "      <td>April</td>\n",
       "      <td>5</td>\n",
       "      <td>3</td>\n",
       "      <td>19</td>\n",
       "      <td>0</td>\n",
       "      <td>3</td>\n",
       "      <td>30</td>\n",
       "    </tr>\n",
       "    <tr>\n",
       "      <th>4</th>\n",
       "      <td>2004</td>\n",
       "      <td>May</td>\n",
       "      <td>18</td>\n",
       "      <td>29</td>\n",
       "      <td>56</td>\n",
       "      <td>6</td>\n",
       "      <td>9</td>\n",
       "      <td>118</td>\n",
       "    </tr>\n",
       "  </tbody>\n",
       "</table>\n",
       "</div>"
      ],
      "text/plain": [
       "   Year     Month  Taliban  Civilians  Afghan forces  \\\n",
       "0  2004   January       15         51             23   \n",
       "1  2004  February        0          7              4   \n",
       "2  2004     March       19          2              0   \n",
       "3  2004     April        5          3             19   \n",
       "4  2004       May       18         29             56   \n",
       "\n",
       "   Nato (detailed in spreadsheet)  Nato - official figures  Total  \n",
       "0                               0                       11    100  \n",
       "1                               5                        2     18  \n",
       "2                               2                        3     26  \n",
       "3                               0                        3     30  \n",
       "4                               6                        9    118  "
      ]
     },
     "execution_count": 585,
     "metadata": {},
     "output_type": "execute_result"
    }
   ],
   "source": [
    "df['Total'] = total\n",
    "df.head()"
   ]
  },
  {
   "cell_type": "code",
   "execution_count": 587,
   "id": "bc264ee1-4016-444c-bd17-dc82705824ba",
   "metadata": {},
   "outputs": [
    {
     "data": {
      "text/plain": [
       "Month\n",
       "January       294\n",
       "February      372\n",
       "April         403\n",
       "March         412\n",
       "December      507\n",
       "November      661\n",
       "May           682\n",
       "October       805\n",
       "June          840\n",
       "July          922\n",
       "August        982\n",
       "September    1271\n",
       "Name: Total, dtype: int64"
      ]
     },
     "execution_count": 587,
     "metadata": {},
     "output_type": "execute_result"
    }
   ],
   "source": [
    "#Q3: What is the month with the most total number of casualties?\n",
    "# Answer: it is September\n",
    "df.groupby('Month')['Total'].max().sort_values()"
   ]
  },
  {
   "cell_type": "code",
   "execution_count": 592,
   "id": "ef539536-1443-4f81-a601-b5e2acf81062",
   "metadata": {},
   "outputs": [
    {
     "data": {
      "text/plain": [
       "<Axes: xlabel='Month'>"
      ]
     },
     "execution_count": 592,
     "metadata": {},
     "output_type": "execute_result"
    },
    {
     "data": {
      "image/png": "[encoded data removed]",
      "text/plain": [
       "<Figure size 640x480 with 1 Axes>"
      ]
     },
     "metadata": {},
     "output_type": "display_data"
    }
   ],
   "source": [
    "#Q4 Can you make a plot of the distribution of casualties over time?\n",
    "# Answer: see below plot\n",
    "q5=df.groupby('Month')['Total'].sum()\n",
    "q5.plot(kind='bar')"
   ]
  },
  {
   "cell_type": "code",
   "execution_count": null,
   "id": "a9b2e898-5513-47eb-8499-38419f4006c7",
   "metadata": {},
   "outputs": [],
   "source": []
  },
  {
   "cell_type": "code",
   "execution_count": null,
   "id": "d6cc992d-a62b-478a-a435-2228d717e33d",
   "metadata": {},
   "outputs": [],
   "source": []
  },
  {
   "cell_type": "code",
   "execution_count": null,
   "id": "357d5193-2521-429f-a3ba-8835387cf9e0",
   "metadata": {},
   "outputs": [],
   "source": []
  }
 ],
 "metadata": {
  "kernelspec": {
   "display_name": "Python 3 (ipykernel)",
   "language": "python",
   "name": "python3"
  },
  "language_info": {
   "codemirror_mode": {
    "name": "ipython",
    "version": 3
   },
   "file_extension": ".py",
   "mimetype": "text/x-python",
   "name": "python",
   "nbconvert_exporter": "python",
   "pygments_lexer": "ipython3",
   "version": "3.12.3"
  }
 },
 "nbformat": 4,
 "nbformat_minor": 5
}
